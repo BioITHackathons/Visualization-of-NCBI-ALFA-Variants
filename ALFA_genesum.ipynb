{
 "cells": [
  {
   "cell_type": "markdown",
   "metadata": {
    "id": "aErdxwSvvQp6"
   },
   "source": [
    "# Plot population minor allele frequencies (MAFs) for genes\n",
    "\n",
    "Let's compare the MAF for a few populations over the [APOE gene](https://www.ncbi.nlm.nih.gov/variation/view/?cfg=NCID_1_20854257_130.14.22.10_9146_1558129725_3670287406) region.\n",
    "The region is located on chromosome 19 (NC_000019.10): 44,905,384 - 44,909,760\n",
    "\n",
    "## Requirements\n",
    "There are a few things we need to do before starting:\n",
    "\n",
    "NB: This workbook has been tested with Python 3.6 and Python 3.7."
   ]
  },
  {
   "cell_type": "code",
   "execution_count": 8,
   "metadata": {
    "executionInfo": {
     "elapsed": 10281,
     "status": "ok",
     "timestamp": 1651763588763,
     "user": {
      "displayName": "Lon Phan",
      "userId": "15301104000330314929"
     },
     "user_tz": 240
    },
    "id": "FQlG9AIHvQp8"
   },
   "outputs": [
    {
     "name": "stdout",
     "output_type": "stream",
     "text": [
      "Note: you may need to restart the kernel to use updated packages.\n"
     ]
    }
   ],
   "source": [
    "%pip install -q requests matplotlib pandas > /dev/null"
   ]
  },
  {
   "cell_type": "code",
   "execution_count": 9,
   "metadata": {
    "executionInfo": {
     "elapsed": 16,
     "status": "ok",
     "timestamp": 1651763588764,
     "user": {
      "displayName": "Lon Phan",
      "userId": "15301104000330314929"
     },
     "user_tz": 240
    },
    "id": "lban5JY9vQp-"
   },
   "outputs": [],
   "source": [
    "%matplotlib inline"
   ]
  },
  {
   "cell_type": "code",
   "execution_count": 29,
   "metadata": {
    "executionInfo": {
     "elapsed": 634,
     "status": "ok",
     "timestamp": 1651763589385,
     "user": {
      "displayName": "Lon Phan",
      "userId": "15301104000330314929"
     },
     "user_tz": 240
    },
    "id": "fJldiTJovQp-"
   },
   "outputs": [],
   "source": [
    "from requests import get\n",
    "import pandas as pd\n",
    "import numpy as np\n",
    "import matplotlib.pyplot as plt\n",
    "from collections import defaultdict\n",
    "import sys"
   ]
  },
  {
   "cell_type": "code",
   "execution_count": 11,
   "metadata": {
    "executionInfo": {
     "elapsed": 9,
     "status": "ok",
     "timestamp": 1651763589386,
     "user": {
      "displayName": "Lon Phan",
      "userId": "15301104000330314929"
     },
     "user_tz": 240
    },
    "id": "iaPoPETkvQp_"
   },
   "outputs": [],
   "source": [
    "plt.rcParams['figure.figsize'] = [16, 8]  # Make plot bigger"
   ]
  },
  {
   "cell_type": "markdown",
   "metadata": {
    "id": "2HIpQpjlvQp_"
   },
   "source": [
    "## Download data\n",
    "Here is a genomic region we are going to plot:"
   ]
  },
  {
   "cell_type": "code",
   "execution_count": 12,
   "metadata": {
    "executionInfo": {
     "elapsed": 8,
     "status": "ok",
     "timestamp": 1651763589387,
     "user": {
      "displayName": "Lon Phan",
      "userId": "15301104000330314929"
     },
     "user_tz": 240
    },
    "id": "4h7_CiaFvQp_"
   },
   "outputs": [],
   "source": [
    "seq_id = 'NC_000019.10'\n",
    "start = 44905384\n",
    "stop = 44909760"
   ]
  },
  {
   "cell_type": "code",
   "execution_count": 13,
   "metadata": {
    "colab": {
     "base_uri": "https://localhost:8080/"
    },
    "executionInfo": {
     "elapsed": 1032,
     "status": "ok",
     "timestamp": 1651763590412,
     "user": {
      "displayName": "Lon Phan",
      "userId": "15301104000330314929"
     },
     "user_tz": 240
    },
    "id": "wgBDlTb2vQqA",
    "outputId": "08e59522-c451-4674-cc92-3d6014da11b6"
   },
   "outputs": [
    {
     "name": "stdout",
     "output_type": "stream",
     "text": [
      "206\n"
     ]
    }
   ],
   "source": [
    "resp = get(f'https://api.ncbi.nlm.nih.gov/variation/v0/interval/{seq_id}:{start}:{stop - start}/overlapping_frequency_records')\n",
    "print(resp.status_code)"
   ]
  },
  {
   "cell_type": "markdown",
   "metadata": {
    "id": "U35QbPWYvQqA"
   },
   "source": [
    "**Status code**: `206` means that not all the requested variants fit into a single reply.\n",
    "So we need to parse the data, get the latest position and continue requesting data until we get a reply with status code 200."
   ]
  },
  {
   "cell_type": "code",
   "execution_count": 14,
   "metadata": {
    "executionInfo": {
     "elapsed": 12,
     "status": "ok",
     "timestamp": 1651763590414,
     "user": {
      "displayName": "Lon Phan",
      "userId": "15301104000330314929"
     },
     "user_tz": 240
    },
    "id": "mTzGL9ywvQqB"
   },
   "outputs": [],
   "source": [
    "def download(seq_id: str, start: int, stop: int):\n",
    "    \"\"\"\n",
    "    Download all frequencies in a specified region\n",
    "    \"\"\"\n",
    "    data = {}\n",
    "    while True:\n",
    "        length = max(1, stop - start + 1)\n",
    "        resp = get(f'https://api.ncbi.nlm.nih.gov/variation/v0/interval/{seq_id}:{start}:{length}/overlapping_frequency_records')\n",
    "        if resp.status_code // 100 != 2:\n",
    "            raise Exception(\"Unable to download data\", resp.status_code, resp.content)\n",
    "        result = resp.json()[\"results\"]\n",
    "        data.update(result)\n",
    "        if resp.status_code == 200:\n",
    "            return data  # We are done\n",
    "\n",
    "        for k,v in result.items():\n",
    "            l, s = k.split('@')\n",
    "            start = max(start, int(s))"
   ]
  },
  {
   "cell_type": "code",
   "execution_count": 15,
   "metadata": {
    "executionInfo": {
     "elapsed": 7721,
     "status": "ok",
     "timestamp": 1651763598126,
     "user": {
      "displayName": "Lon Phan",
      "userId": "15301104000330314929"
     },
     "user_tz": 240
    },
    "id": "1VsY6TS0vQqC"
   },
   "outputs": [],
   "source": [
    "data = download(seq_id, start, stop)"
   ]
  },
  {
   "cell_type": "code",
   "execution_count": 16,
   "metadata": {
    "colab": {
     "base_uri": "https://localhost:8080/"
    },
    "executionInfo": {
     "elapsed": 12,
     "status": "ok",
     "timestamp": 1651763598127,
     "user": {
      "displayName": "Lon Phan",
      "userId": "15301104000330314929"
     },
     "user_tz": 240
    },
    "id": "TyRxw8FEvQqC",
    "outputId": "3a95192d-d72a-4352-84da-e98a8ca2c08b"
   },
   "outputs": [
    {
     "name": "stdout",
     "output_type": "stream",
     "text": [
      "Number of variations:  1472\n"
     ]
    }
   ],
   "source": [
    "print(\"Number of variations: \", len(data))"
   ]
  },
  {
   "cell_type": "markdown",
   "metadata": {
    "id": "Gn2SNz4_vQqC"
   },
   "source": [
    "Now, for each record, we need to calculate MAF per population"
   ]
  },
  {
   "cell_type": "code",
   "execution_count": 17,
   "metadata": {
    "executionInfo": {
     "elapsed": 9,
     "status": "ok",
     "timestamp": 1651763598127,
     "user": {
      "displayName": "Lon Phan",
      "userId": "15301104000330314929"
     },
     "user_tz": 240
    },
    "id": "1fUXULWuvQqD"
   },
   "outputs": [],
   "source": [
    "def maf(record):\n",
    "    \"\"\"\n",
    "    Calculate minor allele frequencies (MAFs) for all populations within the given record\n",
    "    \"\"\"\n",
    "    maf = {}  # Population to MAF\n",
    "    for project, counts in record['counts'].items():\n",
    "        for population, ac in counts['allele_counts'].items():\n",
    "            counts = [allele_count for allele, allele_count in ac.items()]\n",
    "            counts.sort(reverse=True)\n",
    "            if len(counts) <= 1:\n",
    "                maf[population] = 0\n",
    "                continue\n",
    "            total = sum(counts)\n",
    "            if total > 0: \n",
    "                maf[population] = counts[1] / total\n",
    "            else:\n",
    "                maf[population] = 0\n",
    "    return maf"
   ]
  },
  {
   "cell_type": "code",
   "execution_count": 18,
   "metadata": {
    "executionInfo": {
     "elapsed": 9,
     "status": "ok",
     "timestamp": 1651763598127,
     "user": {
      "displayName": "Lon Phan",
      "userId": "15301104000330314929"
     },
     "user_tz": 240
    },
    "id": "eWd723BAvQqD"
   },
   "outputs": [],
   "source": [
    "def translate(data):\n",
    "    \"\"\"\n",
    "    Translate overlapped region endpoint result to data ready to plot.\n",
    "    \"\"\"\n",
    "    position = []\n",
    "    freq = defaultdict(list)\n",
    "    for k, v in data.items():\n",
    "        l, s = k.split('@')\n",
    "        start = int(s)\n",
    "        position.append(start)\n",
    "        mafs = maf(v)\n",
    "        for p, ma in mafs.items():\n",
    "            freq[p].append(ma)\n",
    "    return position, freq"
   ]
  },
  {
   "cell_type": "code",
   "execution_count": 19,
   "metadata": {
    "executionInfo": {
     "elapsed": 222,
     "status": "ok",
     "timestamp": 1651763598341,
     "user": {
      "displayName": "Lon Phan",
      "userId": "15301104000330314929"
     },
     "user_tz": 240
    },
    "id": "GLM-KmMbvQqD"
   },
   "outputs": [],
   "source": [
    "x, pop = translate(data)"
   ]
  },
  {
   "cell_type": "markdown",
   "metadata": {
    "id": "mMkGb4-MvQqD"
   },
   "source": [
    "## Metadata\n",
    "If we look into this data we will see that all populations were reported using their biosample ids. That is not the best way to use in a visualization.\n",
    "So, we are going to translate it to human readable form: here is where the metadata service is helpful."
   ]
  },
  {
   "cell_type": "code",
   "execution_count": 20,
   "metadata": {
    "executionInfo": {
     "elapsed": 2,
     "status": "ok",
     "timestamp": 1651763598341,
     "user": {
      "displayName": "Lon Phan",
      "userId": "15301104000330314929"
     },
     "user_tz": 240
    },
    "id": "i-CMoPjpvQqE"
   },
   "outputs": [],
   "source": [
    "def build_pop_map():\n",
    "    \"\"\"\n",
    "    Download metadata and parse it.\n",
    "    \"\"\"\n",
    "    meta_r = get('https://api.ncbi.nlm.nih.gov/variation/v0/metadata/frequency')\n",
    "    if meta_r.status_code != 200:\n",
    "        raise Exception(\"Can't download metadata\")\n",
    "    result = {}\n",
    "    def _read(pops):\n",
    "        for pop in pops:\n",
    "            result[pop[\"biosample_id\"]] = pop[\"name\"]\n",
    "            if \"subs\" in pop:\n",
    "                _read(pop[\"subs\"])\n",
    "    _read(meta_r.json()[0][\"populations\"])\n",
    "    return result"
   ]
  },
  {
   "cell_type": "code",
   "execution_count": 21,
   "metadata": {
    "executionInfo": {
     "elapsed": 147,
     "status": "ok",
     "timestamp": 1651763598487,
     "user": {
      "displayName": "Lon Phan",
      "userId": "15301104000330314929"
     },
     "user_tz": 240
    },
    "id": "9WjdmXWivQqE"
   },
   "outputs": [],
   "source": [
    "meta = build_pop_map()  # Now meta is the map of biosample_id to population name"
   ]
  },
  {
   "cell_type": "code",
   "execution_count": 22,
   "metadata": {
    "colab": {
     "base_uri": "https://localhost:8080/",
     "height": 512
    },
    "executionInfo": {
     "elapsed": 1998,
     "status": "ok",
     "timestamp": 1651763600483,
     "user": {
      "displayName": "Lon Phan",
      "userId": "15301104000330314929"
     },
     "user_tz": 240
    },
    "id": "l-LsBYuQvQqE",
    "outputId": "a550ffa9-bb7e-49d6-b359-91e8b837bd80"
   },
   "outputs": [
    {
     "data": {
      "image/png": "[encoded data removed]",
      "text/plain": [
       "<Figure size 1152x576 with 1 Axes>"
      ]
     },
     "metadata": {
      "needs_background": "light"
     },
     "output_type": "display_data"
    }
   ],
   "source": [
    "from matplotlib import cycler\n",
    "def show1():\n",
    "    for p, data in pop.items():\n",
    "        # Plot only non-zero MAF\n",
    "        filtered_x = [xx for i,xx in enumerate(x) if data[i] > 0]\n",
    "        filtered_data = [dd for i,dd in enumerate(data) if data[i] > 0]\n",
    "        plt.scatter(filtered_x, filtered_data, label=meta[p])\n",
    "\n",
    "    plt.title('Minor Allele Frequency')\n",
    "    plt.legend(loc=2, bbox_to_anchor=(1.04,1))\n",
    "    plt.yscale('log')\n",
    "    num_colors = len(meta)\n",
    "    colormap = plt.get_cmap('gist_rainbow')\n",
    "    plt.rc('axes', prop_cycle=cycler(color=[colormap(1.*i/num_colors) for i in range(num_colors)]))\n",
    "    plt.show()\n",
    "show1()"
   ]
  },
  {
   "cell_type": "markdown",
   "metadata": {
    "id": "2o85E46NvQqF"
   },
   "source": [
    "# Comparing population frequencies\n",
    "Let's build a scatter plot for allele frequencies for two populations."
   ]
  },
  {
   "cell_type": "code",
   "execution_count": 23,
   "metadata": {
    "executionInfo": {
     "elapsed": 184,
     "status": "ok",
     "timestamp": 1651763600662,
     "user": {
      "displayName": "Lon Phan",
      "userId": "15301104000330314929"
     },
     "user_tz": 240
    },
    "id": "E0C9qpgPvQqF"
   },
   "outputs": [],
   "source": [
    "def cross_frequency(data, pop_id_x, pop_id_y):\n",
    "    \n",
    "    res_x = defaultdict(list)\n",
    "    res_y = defaultdict(list)\n",
    "    records_missing_pop_data = 0\n",
    "    total_records = 0\n",
    "    for _, record in data.items():\n",
    "        total_records += 1\n",
    "        for _, counts in record['counts'].items():\n",
    "            \n",
    "            px = counts['allele_counts'][pop_id_x]\n",
    "            py = counts['allele_counts'][pop_id_y]\n",
    "            \n",
    "            def _pop_freq(p):\n",
    "                r = {}\n",
    "                total = sum([allele_count for allele, allele_count in p.items()])\n",
    "                if total == 0: # This population had no one with any measurements\n",
    "                    return None\n",
    "                for allele, allele_count in p.items():\n",
    "                    r[allele] = allele_count / total\n",
    "                return r\n",
    "            pfx = _pop_freq(px)\n",
    "            pfy = _pop_freq(py)\n",
    "            if pfx is None or pfy is None:\n",
    "              records_missing_pop_data += 1\n",
    "              continue\n",
    "            for a, fx in pfx.items():\n",
    "                if a in pfy:\n",
    "                    res_x[a].append(fx)\n",
    "                    res_y[a].append(pfy[a])\n",
    "    print(f\"Skipped {records_missing_pop_data} of {total_records} records because they had no measurements for one of the populations\",\n",
    "         file=sys.stderr)\n",
    "    return res_x, res_y"
   ]
  },
  {
   "cell_type": "code",
   "execution_count": 24,
   "metadata": {
    "executionInfo": {
     "elapsed": 2,
     "status": "ok",
     "timestamp": 1651763600663,
     "user": {
      "displayName": "Lon Phan",
      "userId": "15301104000330314929"
     },
     "user_tz": 240
    },
    "id": "f6PXLEvovQqF"
   },
   "outputs": [],
   "source": [
    "def show_cross_frequency(seq_id, start, stop, pop_x, pop_y):\n",
    "    data = download(seq_id, start, stop)\n",
    "    cf_x, cf_y = cross_frequency(data, pop_x, pop_y)\n",
    "    for allele, allele_freq_x in cf_x.items():\n",
    "        allele_freq_y = cf_y[allele]\n",
    "        \n",
    "        plt.scatter(allele_freq_x, allele_freq_y, label=allele)\n",
    "        plt.xlabel(meta[pop_x])\n",
    "        plt.ylabel(meta[pop_y])\n",
    "    plt.title(f'Cross Allele frequency {seq_id}, {start}, {stop}')\n",
    "    plt.show()"
   ]
  },
  {
   "cell_type": "code",
   "execution_count": null,
   "metadata": {
    "executionInfo": {
     "elapsed": 2,
     "status": "ok",
     "timestamp": 1651763600663,
     "user": {
      "displayName": "Lon Phan",
      "userId": "15301104000330314929"
     },
     "user_tz": 240
    },
    "id": "ILstvZxzvQqF"
   },
   "outputs": [],
   "source": []
  },
  {
   "cell_type": "code",
   "execution_count": 19,
   "metadata": {
    "colab": {
     "base_uri": "https://localhost:8080/",
     "height": 530
    },
    "executionInfo": {
     "elapsed": 8029,
     "status": "ok",
     "timestamp": 1651763608690,
     "user": {
      "displayName": "Lon Phan",
      "userId": "15301104000330314929"
     },
     "user_tz": 240
    },
    "id": "Q9dNeQRWvQqG",
    "outputId": "3ed98444-6888-4d80-8af1-dfdd743e7bcf"
   },
   "outputs": [
    {
     "name": "stderr",
     "output_type": "stream",
     "text": [
      "Skipped 9 of 1472 records because they had no measurements for one of the populations\n"
     ]
    },
    {
     "data": {
      "image/png": "[encoded data removed]",
      "text/plain": [
       "<Figure size 1152x576 with 1 Axes>"
      ]
     },
     "metadata": {
      "needs_background": "light"
     },
     "output_type": "display_data"
    }
   ],
   "source": [
    "show_cross_frequency('NC_000019.10', 44905384, 44909760, 'SAMN10492695', 'SAMN10492703')"
   ]
  },
  {
   "cell_type": "code",
   "execution_count": 20,
   "metadata": {
    "colab": {
     "base_uri": "https://localhost:8080/",
     "height": 530
    },
    "executionInfo": {
     "elapsed": 30191,
     "status": "ok",
     "timestamp": 1651763638879,
     "user": {
      "displayName": "Lon Phan",
      "userId": "15301104000330314929"
     },
     "user_tz": 240
    },
    "id": "SeyYl0TzvQqG",
    "outputId": "c7de5225-f5bf-4337-8278-58dec48ac44e"
   },
   "outputs": [
    {
     "name": "stderr",
     "output_type": "stream",
     "text": [
      "Skipped 34 of 4639 records because they had no measurements for one of the populations\n"
     ]
    },
    {
     "data": {
      "image/png": "[encoded data removed]",
      "text/plain": [
       "<Figure size 1152x576 with 1 Axes>"
      ]
     },
     "metadata": {
      "needs_background": "light"
     },
     "output_type": "display_data"
    }
   ],
   "source": [
    "show_cross_frequency('NC_000011.10',61362000, 61378224, 'SAMN10492695', 'SAMN10492703')"
   ]
  },
  {
   "cell_type": "code",
   "execution_count": 25,
   "metadata": {
    "executionInfo": {
     "elapsed": 3,
     "status": "ok",
     "timestamp": 1651763638879,
     "user": {
      "displayName": "Lon Phan",
      "userId": "15301104000330314929"
     },
     "user_tz": 240
    },
    "id": "x5QY48_NvQqG"
   },
   "outputs": [],
   "source": [
    "def show_genesum_frequency(df):\n",
    "    \n",
    "    colormap = plt.get_cmap('gist_rainbow')\n",
    "    num_colors=len(df.columns)\n",
    "    plt.rc('axes', prop_cycle=cycler(color=[colormap(1.*i/num_colors) for i in range(num_colors)]))\n",
    "    \n",
    "    meta = build_pop_map()\n",
    "    plt.rcParams[\"figure.figsize\"] = [7.50, 3.50]\n",
    "    plt.rcParams[\"figure.autolayout\"] = True\n",
    "    \n",
    "    common=[]\n",
    "    rare=[]\n",
    "    ultrarare=[]\n",
    "    missing=[]\n",
    "    pop_codes=list(df.columns)\n",
    "    pop_names=[]\n",
    "    for c in pop_codes:\n",
    "        pop_names.append(meta[c])\n",
    "    \n",
    "    for p in df.columns:\n",
    "        common.append(len(df[p][df[p]>=0.01]))\n",
    "        rare.append(len(df[p][(df[p]>=0.001) & (df[p]<=0.01)]))\n",
    "        ultrarare.append(len(df[p][(df[p]>0) & (df[p]<=0.001)] ))\n",
    "        missing.append(len(df[p][df[p]==0 ]))\n",
    "    \n",
    "    b1 = plt.barh(pop_names, common, color='green' )\n",
    "    b2 = plt.barh(pop_names, rare, left=common, color='orange' )\n",
    "    b3 = plt.barh(pop_names, ultrarare, left=rare, color='red' )\n",
    "    b4 = plt.barh(pop_names, missing, left=ultrarare, color='lightgrey' )\n",
    "\n",
    "    plt.legend([b1, b2, b3, b4], [\"Common\", \"Rare\", \"Ultra Rare\", \"Missing\"], title=\"Freq Count\", loc=\"upper right\")\n",
    "\n",
    "    plt.show()"
   ]
  },
  {
   "cell_type": "code",
   "execution_count": null,
   "metadata": {
    "colab": {
     "base_uri": "https://localhost:8080/",
     "height": 513
    },
    "executionInfo": {
     "elapsed": 353,
     "status": "ok",
     "timestamp": 1651763639230,
     "user": {
      "displayName": "Lon Phan",
      "userId": "15301104000330314929"
     },
     "user_tz": 240
    },
    "id": "ay-TaGkcvQqG",
    "outputId": "bf8b474c-62d1-485f-998a-30fd597e876a"
   },
   "outputs": [],
   "source": []
  },
  {
   "cell_type": "code",
   "execution_count": null,
   "metadata": {
    "executionInfo": {
     "elapsed": 11,
     "status": "ok",
     "timestamp": 1651763639230,
     "user": {
      "displayName": "Lon Phan",
      "userId": "15301104000330314929"
     },
     "user_tz": 240
    },
    "id": "JHKeI7YpvQqG"
   },
   "outputs": [],
   "source": []
  },
  {
   "cell_type": "code",
   "execution_count": 26,
   "metadata": {
    "executionInfo": {
     "elapsed": 11,
     "status": "ok",
     "timestamp": 1651763639231,
     "user": {
      "displayName": "Lon Phan",
      "userId": "15301104000330314929"
     },
     "user_tz": 240
    },
    "id": "_7FoCxydvnii"
   },
   "outputs": [],
   "source": [
    "df = pd.DataFrame(data=pop)"
   ]
  },
  {
   "cell_type": "code",
   "execution_count": 27,
   "metadata": {},
   "outputs": [
    {
     "data": {
      "image/png": "[encoded data removed]",
      "text/plain": [
       "<Figure size 540x252 with 1 Axes>"
      ]
     },
     "metadata": {
      "needs_background": "light"
     },
     "output_type": "display_data"
    }
   ],
   "source": [
    "show_genesum_frequency(df)"
   ]
  },
  {
   "cell_type": "code",
   "execution_count": 24,
   "metadata": {
    "colab": {
     "base_uri": "https://localhost:8080/",
     "height": 206
    },
    "executionInfo": {
     "elapsed": 11,
     "status": "ok",
     "timestamp": 1651763639231,
     "user": {
      "displayName": "Lon Phan",
      "userId": "15301104000330314929"
     },
     "user_tz": 240
    },
    "id": "qRpdG0llxlIZ",
    "outputId": "8933d3a2-0413-43f0-dea7-0809dfa5d356"
   },
   "outputs": [
    {
     "data": {
      "text/html": [
       "\n",
       "  <div id=\"df-41938792-46d2-4c06-9bef-cd5a0f7dd3d9\">\n",
       "    <div class=\"colab-df-container\">\n",
       "      <div>\n",
       "<style scoped>\n",
       "    .dataframe tbody tr th:only-of-type {\n",
       "        vertical-align: middle;\n",
       "    }\n",
       "\n",
       "    .dataframe tbody tr th {\n",
       "        vertical-align: top;\n",
       "    }\n",
       "\n",
       "    .dataframe thead th {\n",
       "        text-align: right;\n",
       "    }\n",
       "</style>\n",
       "<table border=\"1\" class=\"dataframe\">\n",
       "  <thead>\n",
       "    <tr style=\"text-align: right;\">\n",
       "      <th></th>\n",
       "      <th>SAMN10492695</th>\n",
       "      <th>SAMN10492696</th>\n",
       "      <th>SAMN10492697</th>\n",
       "      <th>SAMN10492698</th>\n",
       "      <th>SAMN10492699</th>\n",
       "      <th>SAMN10492700</th>\n",
       "      <th>SAMN10492701</th>\n",
       "      <th>SAMN10492702</th>\n",
       "      <th>SAMN11605645</th>\n",
       "      <th>SAMN10492703</th>\n",
       "      <th>SAMN10492704</th>\n",
       "      <th>SAMN10492705</th>\n",
       "    </tr>\n",
       "  </thead>\n",
       "  <tbody>\n",
       "    <tr>\n",
       "      <th>0</th>\n",
       "      <td>0.0</td>\n",
       "      <td>0.0</td>\n",
       "      <td>0.0</td>\n",
       "      <td>0.0</td>\n",
       "      <td>0.0</td>\n",
       "      <td>0.0</td>\n",
       "      <td>0.0</td>\n",
       "      <td>0.0</td>\n",
       "      <td>0.0</td>\n",
       "      <td>0.0</td>\n",
       "      <td>0.0</td>\n",
       "      <td>0.0</td>\n",
       "    </tr>\n",
       "    <tr>\n",
       "      <th>1</th>\n",
       "      <td>0.0</td>\n",
       "      <td>0.0</td>\n",
       "      <td>0.0</td>\n",
       "      <td>0.0</td>\n",
       "      <td>0.0</td>\n",
       "      <td>0.0</td>\n",
       "      <td>0.0</td>\n",
       "      <td>0.0</td>\n",
       "      <td>0.0</td>\n",
       "      <td>0.0</td>\n",
       "      <td>0.0</td>\n",
       "      <td>0.0</td>\n",
       "    </tr>\n",
       "    <tr>\n",
       "      <th>2</th>\n",
       "      <td>0.0</td>\n",
       "      <td>0.0</td>\n",
       "      <td>0.0</td>\n",
       "      <td>0.0</td>\n",
       "      <td>0.0</td>\n",
       "      <td>0.0</td>\n",
       "      <td>0.0</td>\n",
       "      <td>0.0</td>\n",
       "      <td>0.0</td>\n",
       "      <td>0.0</td>\n",
       "      <td>0.0</td>\n",
       "      <td>0.0</td>\n",
       "    </tr>\n",
       "    <tr>\n",
       "      <th>3</th>\n",
       "      <td>0.0</td>\n",
       "      <td>0.0</td>\n",
       "      <td>0.0</td>\n",
       "      <td>0.0</td>\n",
       "      <td>0.0</td>\n",
       "      <td>0.0</td>\n",
       "      <td>0.0</td>\n",
       "      <td>0.0</td>\n",
       "      <td>0.0</td>\n",
       "      <td>0.0</td>\n",
       "      <td>0.0</td>\n",
       "      <td>0.0</td>\n",
       "    </tr>\n",
       "    <tr>\n",
       "      <th>4</th>\n",
       "      <td>0.0</td>\n",
       "      <td>0.0</td>\n",
       "      <td>0.0</td>\n",
       "      <td>0.0</td>\n",
       "      <td>0.0</td>\n",
       "      <td>0.0</td>\n",
       "      <td>0.0</td>\n",
       "      <td>0.0</td>\n",
       "      <td>0.0</td>\n",
       "      <td>0.0</td>\n",
       "      <td>0.0</td>\n",
       "      <td>0.0</td>\n",
       "    </tr>\n",
       "  </tbody>\n",
       "</table>\n",
       "</div>\n",
       "      <button class=\"colab-df-convert\" onclick=\"convertToInteractive('df-41938792-46d2-4c06-9bef-cd5a0f7dd3d9')\"\n",
       "              title=\"Convert this dataframe to an interactive table.\"\n",
       "              style=\"display:none;\">\n",
       "        \n",
       "  <svg xmlns=\"http://www.w3.org/2000/svg\" height=\"24px\"viewBox=\"0 0 24 24\"\n",
       "       width=\"24px\">\n",
       "    <path d=\"M0 0h24v24H0V0z\" fill=\"none\"/>\n",
       "    <path d=\"M18.56 5.44l.94 2.06.94-2.06 2.06-.94-2.06-.94-.94-2.06-.94 2.06-2.06.94zm-11 1L8.5 8.5l.94-2.06 2.06-.94-2.06-.94L8.5 2.5l-.94 2.06-2.06.94zm10 10l.94 2.06.94-2.06 2.06-.94-2.06-.94-.94-2.06-.94 2.06-2.06.94z\"/><path d=\"M17.41 7.96l-1.37-1.37c-.4-.4-.92-.59-1.43-.59-.52 0-1.04.2-1.43.59L10.3 9.45l-7.72 7.72c-.78.78-.78 2.05 0 2.83L4 21.41c.39.39.9.59 1.41.59.51 0 1.02-.2 1.41-.59l7.78-7.78 2.81-2.81c.8-.78.8-2.07 0-2.86zM5.41 20L4 18.59l7.72-7.72 1.47 1.35L5.41 20z\"/>\n",
       "  </svg>\n",
       "      </button>\n",
       "      \n",
       "  <style>\n",
       "    .colab-df-container {\n",
       "      display:flex;\n",
       "      flex-wrap:wrap;\n",
       "      gap: 12px;\n",
       "    }\n",
       "\n",
       "    .colab-df-convert {\n",
       "      background-color: #E8F0FE;\n",
       "      border: none;\n",
       "      border-radius: 50%;\n",
       "      cursor: pointer;\n",
       "      display: none;\n",
       "      fill: #1967D2;\n",
       "      height: 32px;\n",
       "      padding: 0 0 0 0;\n",
       "      width: 32px;\n",
       "    }\n",
       "\n",
       "    .colab-df-convert:hover {\n",
       "      background-color: #E2EBFA;\n",
       "      box-shadow: 0px 1px 2px rgba(60, 64, 67, 0.3), 0px 1px 3px 1px rgba(60, 64, 67, 0.15);\n",
       "      fill: #174EA6;\n",
       "    }\n",
       "\n",
       "    [theme=dark] .colab-df-convert {\n",
       "      background-color: #3B4455;\n",
       "      fill: #D2E3FC;\n",
       "    }\n",
       "\n",
       "    [theme=dark] .colab-df-convert:hover {\n",
       "      background-color: #434B5C;\n",
       "      box-shadow: 0px 1px 3px 1px rgba(0, 0, 0, 0.15);\n",
       "      filter: drop-shadow(0px 1px 2px rgba(0, 0, 0, 0.3));\n",
       "      fill: #FFFFFF;\n",
       "    }\n",
       "  </style>\n",
       "\n",
       "      <script>\n",
       "        const buttonEl =\n",
       "          document.querySelector('#df-41938792-46d2-4c06-9bef-cd5a0f7dd3d9 button.colab-df-convert');\n",
       "        buttonEl.style.display =\n",
       "          google.colab.kernel.accessAllowed ? 'block' : 'none';\n",
       "\n",
       "        async function convertToInteractive(key) {\n",
       "          const element = document.querySelector('#df-41938792-46d2-4c06-9bef-cd5a0f7dd3d9');\n",
       "          const dataTable =\n",
       "            await google.colab.kernel.invokeFunction('convertToInteractive',\n",
       "                                                     [key], {});\n",
       "          if (!dataTable) return;\n",
       "\n",
       "          const docLinkHtml = 'Like what you see? Visit the ' +\n",
       "            '<a target=\"_blank\" href=https://colab.research.google.com/notebooks/data_table.ipynb>data table notebook</a>'\n",
       "            + ' to learn more about interactive tables.';\n",
       "          element.innerHTML = '';\n",
       "          dataTable['output_type'] = 'display_data';\n",
       "          await google.colab.output.renderOutput(dataTable, element);\n",
       "          const docLink = document.createElement('div');\n",
       "          docLink.innerHTML = docLinkHtml;\n",
       "          element.appendChild(docLink);\n",
       "        }\n",
       "      </script>\n",
       "    </div>\n",
       "  </div>\n",
       "  "
      ],
      "text/plain": [
       "   SAMN10492695  SAMN10492696  SAMN10492697  SAMN10492698  SAMN10492699  \\\n",
       "0           0.0           0.0           0.0           0.0           0.0   \n",
       "1           0.0           0.0           0.0           0.0           0.0   \n",
       "2           0.0           0.0           0.0           0.0           0.0   \n",
       "3           0.0           0.0           0.0           0.0           0.0   \n",
       "4           0.0           0.0           0.0           0.0           0.0   \n",
       "\n",
       "   SAMN10492700  SAMN10492701  SAMN10492702  SAMN11605645  SAMN10492703  \\\n",
       "0           0.0           0.0           0.0           0.0           0.0   \n",
       "1           0.0           0.0           0.0           0.0           0.0   \n",
       "2           0.0           0.0           0.0           0.0           0.0   \n",
       "3           0.0           0.0           0.0           0.0           0.0   \n",
       "4           0.0           0.0           0.0           0.0           0.0   \n",
       "\n",
       "   SAMN10492704  SAMN10492705  \n",
       "0           0.0           0.0  \n",
       "1           0.0           0.0  \n",
       "2           0.0           0.0  \n",
       "3           0.0           0.0  \n",
       "4           0.0           0.0  "
      ]
     },
     "execution_count": 24,
     "metadata": {},
     "output_type": "execute_result"
    }
   ],
   "source": [
    "df.head()"
   ]
  },
  {
   "cell_type": "code",
   "execution_count": 101,
   "metadata": {},
   "outputs": [],
   "source": [
    "def show_colored_frequency(df):\n",
    "    from matplotlib import colors\n",
    "    meta = build_pop_map()\n",
    "    pop_codes=list(meta.keys())\n",
    "    pop_names=list(meta.values())\n",
    "    \n",
    "    plt.rcParams[\"figure.figsize\"] = [7.50, 15]\n",
    "    plt.rcParams[\"figure.autolayout\"] = True\n",
    "    \n",
    "    plot_data=[]\n",
    "    \n",
    "    for i in df.index:\n",
    "        if df['SAMN10492705'][i]==0:\n",
    "            continue\n",
    "        else:\n",
    "            for c in pop_codes:\n",
    "                if df[c][i]>=0.01:\n",
    "                    plot_data.append(1)\n",
    "                elif df[c][i]>=0.001 and df[c][i]<0.01:\n",
    "                    plot_data.append(2)\n",
    "                elif df[c][i]>0 and df[c][i]<0.001:\n",
    "                    plot_data.append(3)\n",
    "                else:\n",
    "                    plot_data.append(0)\n",
    "    array=np.reshape(plot_data,(-1, len(pop_codes)))\n",
    "    cmap = colors.ListedColormap(['lightgrey', 'green','orange', 'red'])\n",
    "    fig, ax = plt.subplots(figsize=(2, 5))\n",
    "    ax.imshow(array,cmap=cmap)\n",
    "    ax.set_aspect('auto')\n",
    "    plt.show()\n",
    "    "
   ]
  },
  {
   "cell_type": "code",
   "execution_count": 102,
   "metadata": {},
   "outputs": [
    {
     "data": {
      "image/png": "[encoded data removed]",
      "text/plain": [
       "<Figure size 144x360 with 1 Axes>"
      ]
     },
     "metadata": {
      "needs_background": "light"
     },
     "output_type": "display_data"
    }
   ],
   "source": [
    "show_colored_frequency(df)"
   ]
  },
  {
   "cell_type": "code",
   "execution_count": 32,
   "metadata": {},
   "outputs": [
    {
     "data": {
      "image/png": "[encoded data removed]",
      "text/plain": [
       "<Figure size 576x864 with 1 Axes>"
      ]
     },
     "metadata": {
      "needs_background": "light"
     },
     "output_type": "display_data"
    }
   ],
   "source": [
    "X=np.random.randint(256, size=(10, 10))\n",
    "\n",
    "fig = plt.figure(figsize=(8,12))\n",
    "plt.imshow(X)\n",
    "plt.title(\"Plot 2D array\")\n",
    "plt.show()"
   ]
  },
  {
   "cell_type": "code",
   "execution_count": null,
   "metadata": {},
   "outputs": [],
   "source": []
  },
  {
   "cell_type": "code",
   "execution_count": 35,
   "metadata": {
    "colab": {
     "base_uri": "https://localhost:8080/"
    },
    "executionInfo": {
     "elapsed": 152,
     "status": "ok",
     "timestamp": 1651764038802,
     "user": {
      "displayName": "Lon Phan",
      "userId": "15301104000330314929"
     },
     "user_tz": 240
    },
    "id": "RmWDinq1yZ8d",
    "outputId": "366aacb5-a262-4208-9459-83b18538214b"
   },
   "outputs": [
    {
     "data": {
      "text/plain": [
       "dict_values(['Total', 'European', 'African', 'African Others', 'African American', 'Asian', 'East Asian', 'Other Asian', 'Latin American 1', 'Latin American 2', 'South Asian', 'Other'])"
      ]
     },
     "execution_count": 35,
     "metadata": {},
     "output_type": "execute_result"
    }
   ],
   "source": [
    "meta.values()"
   ]
  },
  {
   "cell_type": "code",
   "execution_count": 36,
   "metadata": {
    "executionInfo": {
     "elapsed": 137,
     "status": "ok",
     "timestamp": 1651764165480,
     "user": {
      "displayName": "Lon Phan",
      "userId": "15301104000330314929"
     },
     "user_tz": 240
    },
    "id": "wuP6tmM70IDB"
   },
   "outputs": [],
   "source": [
    "df.columns = meta.values()"
   ]
  },
  {
   "cell_type": "code",
   "execution_count": 37,
   "metadata": {
    "colab": {
     "base_uri": "https://localhost:8080/",
     "height": 206
    },
    "executionInfo": {
     "elapsed": 194,
     "status": "ok",
     "timestamp": 1651764181476,
     "user": {
      "displayName": "Lon Phan",
      "userId": "15301104000330314929"
     },
     "user_tz": 240
    },
    "id": "itBUOlleyZVS",
    "outputId": "3beea4aa-237e-49b1-dafb-cf9e44f5269a"
   },
   "outputs": [
    {
     "data": {
      "text/html": [
       "\n",
       "  <div id=\"df-a4fbf96f-dd4f-465a-8487-e5f52028ec1e\">\n",
       "    <div class=\"colab-df-container\">\n",
       "      <div>\n",
       "<style scoped>\n",
       "    .dataframe tbody tr th:only-of-type {\n",
       "        vertical-align: middle;\n",
       "    }\n",
       "\n",
       "    .dataframe tbody tr th {\n",
       "        vertical-align: top;\n",
       "    }\n",
       "\n",
       "    .dataframe thead th {\n",
       "        text-align: right;\n",
       "    }\n",
       "</style>\n",
       "<table border=\"1\" class=\"dataframe\">\n",
       "  <thead>\n",
       "    <tr style=\"text-align: right;\">\n",
       "      <th></th>\n",
       "      <th>Total</th>\n",
       "      <th>European</th>\n",
       "      <th>African</th>\n",
       "      <th>African Others</th>\n",
       "      <th>African American</th>\n",
       "      <th>Asian</th>\n",
       "      <th>East Asian</th>\n",
       "      <th>Other Asian</th>\n",
       "      <th>Latin American 1</th>\n",
       "      <th>Latin American 2</th>\n",
       "      <th>South Asian</th>\n",
       "      <th>Other</th>\n",
       "    </tr>\n",
       "  </thead>\n",
       "  <tbody>\n",
       "    <tr>\n",
       "      <th>0</th>\n",
       "      <td>0.0</td>\n",
       "      <td>0.0</td>\n",
       "      <td>0.0</td>\n",
       "      <td>0.0</td>\n",
       "      <td>0.0</td>\n",
       "      <td>0.0</td>\n",
       "      <td>0.0</td>\n",
       "      <td>0.0</td>\n",
       "      <td>0.0</td>\n",
       "      <td>0.0</td>\n",
       "      <td>0.0</td>\n",
       "      <td>0.0</td>\n",
       "    </tr>\n",
       "    <tr>\n",
       "      <th>1</th>\n",
       "      <td>0.0</td>\n",
       "      <td>0.0</td>\n",
       "      <td>0.0</td>\n",
       "      <td>0.0</td>\n",
       "      <td>0.0</td>\n",
       "      <td>0.0</td>\n",
       "      <td>0.0</td>\n",
       "      <td>0.0</td>\n",
       "      <td>0.0</td>\n",
       "      <td>0.0</td>\n",
       "      <td>0.0</td>\n",
       "      <td>0.0</td>\n",
       "    </tr>\n",
       "    <tr>\n",
       "      <th>2</th>\n",
       "      <td>0.0</td>\n",
       "      <td>0.0</td>\n",
       "      <td>0.0</td>\n",
       "      <td>0.0</td>\n",
       "      <td>0.0</td>\n",
       "      <td>0.0</td>\n",
       "      <td>0.0</td>\n",
       "      <td>0.0</td>\n",
       "      <td>0.0</td>\n",
       "      <td>0.0</td>\n",
       "      <td>0.0</td>\n",
       "      <td>0.0</td>\n",
       "    </tr>\n",
       "    <tr>\n",
       "      <th>3</th>\n",
       "      <td>0.0</td>\n",
       "      <td>0.0</td>\n",
       "      <td>0.0</td>\n",
       "      <td>0.0</td>\n",
       "      <td>0.0</td>\n",
       "      <td>0.0</td>\n",
       "      <td>0.0</td>\n",
       "      <td>0.0</td>\n",
       "      <td>0.0</td>\n",
       "      <td>0.0</td>\n",
       "      <td>0.0</td>\n",
       "      <td>0.0</td>\n",
       "    </tr>\n",
       "    <tr>\n",
       "      <th>4</th>\n",
       "      <td>0.0</td>\n",
       "      <td>0.0</td>\n",
       "      <td>0.0</td>\n",
       "      <td>0.0</td>\n",
       "      <td>0.0</td>\n",
       "      <td>0.0</td>\n",
       "      <td>0.0</td>\n",
       "      <td>0.0</td>\n",
       "      <td>0.0</td>\n",
       "      <td>0.0</td>\n",
       "      <td>0.0</td>\n",
       "      <td>0.0</td>\n",
       "    </tr>\n",
       "  </tbody>\n",
       "</table>\n",
       "</div>\n",
       "      <button class=\"colab-df-convert\" onclick=\"convertToInteractive('df-a4fbf96f-dd4f-465a-8487-e5f52028ec1e')\"\n",
       "              title=\"Convert this dataframe to an interactive table.\"\n",
       "              style=\"display:none;\">\n",
       "        \n",
       "  <svg xmlns=\"http://www.w3.org/2000/svg\" height=\"24px\"viewBox=\"0 0 24 24\"\n",
       "       width=\"24px\">\n",
       "    <path d=\"M0 0h24v24H0V0z\" fill=\"none\"/>\n",
       "    <path d=\"M18.56 5.44l.94 2.06.94-2.06 2.06-.94-2.06-.94-.94-2.06-.94 2.06-2.06.94zm-11 1L8.5 8.5l.94-2.06 2.06-.94-2.06-.94L8.5 2.5l-.94 2.06-2.06.94zm10 10l.94 2.06.94-2.06 2.06-.94-2.06-.94-.94-2.06-.94 2.06-2.06.94z\"/><path d=\"M17.41 7.96l-1.37-1.37c-.4-.4-.92-.59-1.43-.59-.52 0-1.04.2-1.43.59L10.3 9.45l-7.72 7.72c-.78.78-.78 2.05 0 2.83L4 21.41c.39.39.9.59 1.41.59.51 0 1.02-.2 1.41-.59l7.78-7.78 2.81-2.81c.8-.78.8-2.07 0-2.86zM5.41 20L4 18.59l7.72-7.72 1.47 1.35L5.41 20z\"/>\n",
       "  </svg>\n",
       "      </button>\n",
       "      \n",
       "  <style>\n",
       "    .colab-df-container {\n",
       "      display:flex;\n",
       "      flex-wrap:wrap;\n",
       "      gap: 12px;\n",
       "    }\n",
       "\n",
       "    .colab-df-convert {\n",
       "      background-color: #E8F0FE;\n",
       "      border: none;\n",
       "      border-radius: 50%;\n",
       "      cursor: pointer;\n",
       "      display: none;\n",
       "      fill: #1967D2;\n",
       "      height: 32px;\n",
       "      padding: 0 0 0 0;\n",
       "      width: 32px;\n",
       "    }\n",
       "\n",
       "    .colab-df-convert:hover {\n",
       "      background-color: #E2EBFA;\n",
       "      box-shadow: 0px 1px 2px rgba(60, 64, 67, 0.3), 0px 1px 3px 1px rgba(60, 64, 67, 0.15);\n",
       "      fill: #174EA6;\n",
       "    }\n",
       "\n",
       "    [theme=dark] .colab-df-convert {\n",
       "      background-color: #3B4455;\n",
       "      fill: #D2E3FC;\n",
       "    }\n",
       "\n",
       "    [theme=dark] .colab-df-convert:hover {\n",
       "      background-color: #434B5C;\n",
       "      box-shadow: 0px 1px 3px 1px rgba(0, 0, 0, 0.15);\n",
       "      filter: drop-shadow(0px 1px 2px rgba(0, 0, 0, 0.3));\n",
       "      fill: #FFFFFF;\n",
       "    }\n",
       "  </style>\n",
       "\n",
       "      <script>\n",
       "        const buttonEl =\n",
       "          document.querySelector('#df-a4fbf96f-dd4f-465a-8487-e5f52028ec1e button.colab-df-convert');\n",
       "        buttonEl.style.display =\n",
       "          google.colab.kernel.accessAllowed ? 'block' : 'none';\n",
       "\n",
       "        async function convertToInteractive(key) {\n",
       "          const element = document.querySelector('#df-a4fbf96f-dd4f-465a-8487-e5f52028ec1e');\n",
       "          const dataTable =\n",
       "            await google.colab.kernel.invokeFunction('convertToInteractive',\n",
       "                                                     [key], {});\n",
       "          if (!dataTable) return;\n",
       "\n",
       "          const docLinkHtml = 'Like what you see? Visit the ' +\n",
       "            '<a target=\"_blank\" href=https://colab.research.google.com/notebooks/data_table.ipynb>data table notebook</a>'\n",
       "            + ' to learn more about interactive tables.';\n",
       "          element.innerHTML = '';\n",
       "          dataTable['output_type'] = 'display_data';\n",
       "          await google.colab.output.renderOutput(dataTable, element);\n",
       "          const docLink = document.createElement('div');\n",
       "          docLink.innerHTML = docLinkHtml;\n",
       "          element.appendChild(docLink);\n",
       "        }\n",
       "      </script>\n",
       "    </div>\n",
       "  </div>\n",
       "  "
      ],
      "text/plain": [
       "   Total  European  African  African Others  African American  Asian  \\\n",
       "0    0.0       0.0      0.0             0.0               0.0    0.0   \n",
       "1    0.0       0.0      0.0             0.0               0.0    0.0   \n",
       "2    0.0       0.0      0.0             0.0               0.0    0.0   \n",
       "3    0.0       0.0      0.0             0.0               0.0    0.0   \n",
       "4    0.0       0.0      0.0             0.0               0.0    0.0   \n",
       "\n",
       "   East Asian  Other Asian  Latin American 1  Latin American 2  South Asian  \\\n",
       "0         0.0          0.0               0.0               0.0          0.0   \n",
       "1         0.0          0.0               0.0               0.0          0.0   \n",
       "2         0.0          0.0               0.0               0.0          0.0   \n",
       "3         0.0          0.0               0.0               0.0          0.0   \n",
       "4         0.0          0.0               0.0               0.0          0.0   \n",
       "\n",
       "   Other  \n",
       "0    0.0  \n",
       "1    0.0  \n",
       "2    0.0  \n",
       "3    0.0  \n",
       "4    0.0  "
      ]
     },
     "execution_count": 37,
     "metadata": {},
     "output_type": "execute_result"
    }
   ],
   "source": [
    "df.head()"
   ]
  },
  {
   "cell_type": "code",
   "execution_count": null,
   "metadata": {
    "id": "5c0zIr6FyX6B"
   },
   "outputs": [],
   "source": [
    "#@title\n"
   ]
  },
  {
   "cell_type": "code",
   "execution_count": null,
   "metadata": {
    "id": "WTldgcKY0qhC"
   },
   "outputs": [],
   "source": []
  }
 ],
 "metadata": {
  "colab": {
   "collapsed_sections": [],
   "name": "ALFA_genesummary.ipynb",
   "provenance": [
    {
     "file_id": "https://github.com/BioITHackathons/Visualization-of-NCBI-ALFA-Variants/blob/main/ALFA_genesum.ipynb",
     "timestamp": 1651763530916
    }
   ]
  },
  "kernelspec": {
   "display_name": "Python 3 (ipykernel)",
   "language": "python",
   "name": "python3"
  },
  "language_info": {
   "codemirror_mode": {
    "name": "ipython",
    "version": 3
   },
   "file_extension": ".py",
   "mimetype": "text/x-python",
   "name": "python",
   "nbconvert_exporter": "python",
   "pygments_lexer": "ipython3",
   "version": "3.7.12"
  }
 },
 "nbformat": 4,
 "nbformat_minor": 4
}
